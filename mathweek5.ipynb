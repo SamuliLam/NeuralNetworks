{
 "cells": [
  {
   "cell_type": "code",
   "execution_count": 16,
   "id": "initial_id",
   "metadata": {
    "collapsed": true,
    "ExecuteTime": {
     "end_time": "2025-04-18T16:53:17.127353Z",
     "start_time": "2025-04-18T16:53:17.118340Z"
    }
   },
   "outputs": [
    {
     "name": "stdout",
     "output_type": "stream",
     "text": [
      "x =  -1.8123657994381928      y =  2.617156719327557\n",
      "x =  -1.4082263923767975      y =  2.0540292045473416\n",
      "x =  -1.7655170018965236      y =  2.552157395781816\n",
      "x =  -1.8000340842635691      y =  2.6000472893896056\n"
     ]
    }
   ],
   "source": [
    "def f(x, y):\n",
    "    return 3*x**2 + 3*x*y + 2*y**2 + 3*x - 5*y\n",
    "\n",
    "def df(x,y):\n",
    "    dx = 3*2*x + 3*y +3\n",
    "    dy = 3*x + 2*2*y - 5\n",
    "    return dx, dy\n",
    "\n",
    "def calc_g_descent(x, y, alpha):\n",
    "    for k in range(100):\n",
    "        dx, dy = df(x, y)\n",
    "        x = x - alpha*dx\n",
    "        y = y - alpha*dy\n",
    "    \n",
    "    print(\"x = \", x, \"     y = \", y)    \n",
    "\n",
    "# Testi 1: Aloituspiste (0, 5), alpha = 0.02\n",
    "calc_g_descent(0, 5, 0.02)\n",
    "\n",
    "# Testi 2: Aloituspiste (-5, -5), alpha = 0.01\n",
    "calc_g_descent(-5, -5, 0.01)\n",
    "\n",
    "# Testi 3: Aloituspiste (10, -10), alpha = 0.03\n",
    "calc_g_descent(10, -10, 0.03)\n",
    "\n",
    "# Lopuksi testataan vielä ylhäällä olevista parhaita parametreja ja lisätään hieman oppimisnopeutta\n",
    "calc_g_descent(0, 5, 0.05)\n"
   ]
  }
 ],
 "metadata": {
  "kernelspec": {
   "display_name": "Python 3",
   "language": "python",
   "name": "python3"
  },
  "language_info": {
   "codemirror_mode": {
    "name": "ipython",
    "version": 2
   },
   "file_extension": ".py",
   "mimetype": "text/x-python",
   "name": "python",
   "nbconvert_exporter": "python",
   "pygments_lexer": "ipython2",
   "version": "2.7.6"
  }
 },
 "nbformat": 4,
 "nbformat_minor": 5
}
